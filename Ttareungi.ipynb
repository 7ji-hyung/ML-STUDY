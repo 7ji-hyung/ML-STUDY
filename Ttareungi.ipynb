{
 "cells": [
  {
   "cell_type": "markdown",
   "id": "97ff729b",
   "metadata": {},
   "source": [
    "## 1. 라이브러리 및 데이터\n",
    "## Library & Data"
   ]
  },
  {
   "cell_type": "code",
   "execution_count": 2,
   "id": "90a78155",
   "metadata": {},
   "outputs": [],
   "source": [
    "import pandas as pd\n",
    "from sklearn.tree import DecisionTreeRegressor\n",
    "from sklearn.ensemble import RandomForestRegressor"
   ]
  },
  {
   "cell_type": "code",
   "execution_count": 6,
   "id": "487d27e6",
   "metadata": {},
   "outputs": [],
   "source": [
    "train = pd.read_csv('./따릉이/train.csv') # 모델 학습 파일\n",
    "test = pd.read_csv('./따릉이/test.csv') # 모델 시험지 파일\n",
    "submission = pd.read_csv('./따릉이/submission.csv') # 답안지 파일"
   ]
  },
  {
   "cell_type": "markdown",
   "id": "60a0268b",
   "metadata": {},
   "source": [
    "## 2. 탐색적 자료분석\n",
    "## Exploratory Data Analysis (EDA)  \n",
    "  \n",
    "### pd.DataFrame.head()\n",
    " - 데이터 프레임의 위에서부터 n개 행을 보여주는 함수\n",
    " - n의 기본 값(default값)dms 5"
   ]
  },
  {
   "cell_type": "code",
   "execution_count": 9,
   "id": "e183b340",
   "metadata": {
    "scrolled": true
   },
   "outputs": [
    {
     "data": {
      "text/html": [
       "<div>\n",
       "<style scoped>\n",
       "    .dataframe tbody tr th:only-of-type {\n",
       "        vertical-align: middle;\n",
       "    }\n",
       "\n",
       "    .dataframe tbody tr th {\n",
       "        vertical-align: top;\n",
       "    }\n",
       "\n",
       "    .dataframe thead th {\n",
       "        text-align: right;\n",
       "    }\n",
       "</style>\n",
       "<table border=\"1\" class=\"dataframe\">\n",
       "  <thead>\n",
       "    <tr style=\"text-align: right;\">\n",
       "      <th></th>\n",
       "      <th>id</th>\n",
       "      <th>hour</th>\n",
       "      <th>hour_bef_temperature</th>\n",
       "      <th>hour_bef_precipitation</th>\n",
       "      <th>hour_bef_windspeed</th>\n",
       "      <th>hour_bef_humidity</th>\n",
       "      <th>hour_bef_visibility</th>\n",
       "      <th>hour_bef_ozone</th>\n",
       "      <th>hour_bef_pm10</th>\n",
       "      <th>hour_bef_pm2.5</th>\n",
       "      <th>count</th>\n",
       "    </tr>\n",
       "  </thead>\n",
       "  <tbody>\n",
       "    <tr>\n",
       "      <th>0</th>\n",
       "      <td>3</td>\n",
       "      <td>20</td>\n",
       "      <td>16.3</td>\n",
       "      <td>1.0</td>\n",
       "      <td>1.5</td>\n",
       "      <td>89.0</td>\n",
       "      <td>576.0</td>\n",
       "      <td>0.027</td>\n",
       "      <td>76.0</td>\n",
       "      <td>33.0</td>\n",
       "      <td>49.0</td>\n",
       "    </tr>\n",
       "    <tr>\n",
       "      <th>1</th>\n",
       "      <td>6</td>\n",
       "      <td>13</td>\n",
       "      <td>20.1</td>\n",
       "      <td>0.0</td>\n",
       "      <td>1.4</td>\n",
       "      <td>48.0</td>\n",
       "      <td>916.0</td>\n",
       "      <td>0.042</td>\n",
       "      <td>73.0</td>\n",
       "      <td>40.0</td>\n",
       "      <td>159.0</td>\n",
       "    </tr>\n",
       "    <tr>\n",
       "      <th>2</th>\n",
       "      <td>7</td>\n",
       "      <td>6</td>\n",
       "      <td>13.9</td>\n",
       "      <td>0.0</td>\n",
       "      <td>0.7</td>\n",
       "      <td>79.0</td>\n",
       "      <td>1382.0</td>\n",
       "      <td>0.033</td>\n",
       "      <td>32.0</td>\n",
       "      <td>19.0</td>\n",
       "      <td>26.0</td>\n",
       "    </tr>\n",
       "    <tr>\n",
       "      <th>3</th>\n",
       "      <td>8</td>\n",
       "      <td>23</td>\n",
       "      <td>8.1</td>\n",
       "      <td>0.0</td>\n",
       "      <td>2.7</td>\n",
       "      <td>54.0</td>\n",
       "      <td>946.0</td>\n",
       "      <td>0.040</td>\n",
       "      <td>75.0</td>\n",
       "      <td>64.0</td>\n",
       "      <td>57.0</td>\n",
       "    </tr>\n",
       "    <tr>\n",
       "      <th>4</th>\n",
       "      <td>9</td>\n",
       "      <td>18</td>\n",
       "      <td>29.5</td>\n",
       "      <td>0.0</td>\n",
       "      <td>4.8</td>\n",
       "      <td>7.0</td>\n",
       "      <td>2000.0</td>\n",
       "      <td>0.057</td>\n",
       "      <td>27.0</td>\n",
       "      <td>11.0</td>\n",
       "      <td>431.0</td>\n",
       "    </tr>\n",
       "  </tbody>\n",
       "</table>\n",
       "</div>"
      ],
      "text/plain": [
       "   id  hour  hour_bef_temperature  hour_bef_precipitation  hour_bef_windspeed  \\\n",
       "0   3    20                  16.3                     1.0                 1.5   \n",
       "1   6    13                  20.1                     0.0                 1.4   \n",
       "2   7     6                  13.9                     0.0                 0.7   \n",
       "3   8    23                   8.1                     0.0                 2.7   \n",
       "4   9    18                  29.5                     0.0                 4.8   \n",
       "\n",
       "   hour_bef_humidity  hour_bef_visibility  hour_bef_ozone  hour_bef_pm10  \\\n",
       "0               89.0                576.0           0.027           76.0   \n",
       "1               48.0                916.0           0.042           73.0   \n",
       "2               79.0               1382.0           0.033           32.0   \n",
       "3               54.0                946.0           0.040           75.0   \n",
       "4                7.0               2000.0           0.057           27.0   \n",
       "\n",
       "   hour_bef_pm2.5  count  \n",
       "0            33.0   49.0  \n",
       "1            40.0  159.0  \n",
       "2            19.0   26.0  \n",
       "3            64.0   57.0  \n",
       "4            11.0  431.0  "
      ]
     },
     "execution_count": 9,
     "metadata": {},
     "output_type": "execute_result"
    }
   ],
   "source": [
    "train.head()"
   ]
  },
  {
   "cell_type": "code",
   "execution_count": 10,
   "id": "30913b70",
   "metadata": {
    "scrolled": true
   },
   "outputs": [
    {
     "data": {
      "text/html": [
       "<div>\n",
       "<style scoped>\n",
       "    .dataframe tbody tr th:only-of-type {\n",
       "        vertical-align: middle;\n",
       "    }\n",
       "\n",
       "    .dataframe tbody tr th {\n",
       "        vertical-align: top;\n",
       "    }\n",
       "\n",
       "    .dataframe thead th {\n",
       "        text-align: right;\n",
       "    }\n",
       "</style>\n",
       "<table border=\"1\" class=\"dataframe\">\n",
       "  <thead>\n",
       "    <tr style=\"text-align: right;\">\n",
       "      <th></th>\n",
       "      <th>id</th>\n",
       "      <th>hour</th>\n",
       "      <th>hour_bef_temperature</th>\n",
       "      <th>hour_bef_precipitation</th>\n",
       "      <th>hour_bef_windspeed</th>\n",
       "      <th>hour_bef_humidity</th>\n",
       "      <th>hour_bef_visibility</th>\n",
       "      <th>hour_bef_ozone</th>\n",
       "      <th>hour_bef_pm10</th>\n",
       "      <th>hour_bef_pm2.5</th>\n",
       "    </tr>\n",
       "  </thead>\n",
       "  <tbody>\n",
       "    <tr>\n",
       "      <th>0</th>\n",
       "      <td>0</td>\n",
       "      <td>7</td>\n",
       "      <td>20.7</td>\n",
       "      <td>0.0</td>\n",
       "      <td>1.3</td>\n",
       "      <td>62.0</td>\n",
       "      <td>954.0</td>\n",
       "      <td>0.041</td>\n",
       "      <td>44.0</td>\n",
       "      <td>27.0</td>\n",
       "    </tr>\n",
       "    <tr>\n",
       "      <th>1</th>\n",
       "      <td>1</td>\n",
       "      <td>17</td>\n",
       "      <td>30.0</td>\n",
       "      <td>0.0</td>\n",
       "      <td>5.4</td>\n",
       "      <td>33.0</td>\n",
       "      <td>1590.0</td>\n",
       "      <td>0.061</td>\n",
       "      <td>49.0</td>\n",
       "      <td>36.0</td>\n",
       "    </tr>\n",
       "    <tr>\n",
       "      <th>2</th>\n",
       "      <td>2</td>\n",
       "      <td>13</td>\n",
       "      <td>19.0</td>\n",
       "      <td>1.0</td>\n",
       "      <td>2.1</td>\n",
       "      <td>95.0</td>\n",
       "      <td>193.0</td>\n",
       "      <td>0.020</td>\n",
       "      <td>36.0</td>\n",
       "      <td>28.0</td>\n",
       "    </tr>\n",
       "    <tr>\n",
       "      <th>3</th>\n",
       "      <td>4</td>\n",
       "      <td>6</td>\n",
       "      <td>22.5</td>\n",
       "      <td>0.0</td>\n",
       "      <td>2.5</td>\n",
       "      <td>60.0</td>\n",
       "      <td>1185.0</td>\n",
       "      <td>0.027</td>\n",
       "      <td>52.0</td>\n",
       "      <td>38.0</td>\n",
       "    </tr>\n",
       "    <tr>\n",
       "      <th>4</th>\n",
       "      <td>5</td>\n",
       "      <td>22</td>\n",
       "      <td>14.6</td>\n",
       "      <td>1.0</td>\n",
       "      <td>3.4</td>\n",
       "      <td>93.0</td>\n",
       "      <td>218.0</td>\n",
       "      <td>0.041</td>\n",
       "      <td>18.0</td>\n",
       "      <td>15.0</td>\n",
       "    </tr>\n",
       "  </tbody>\n",
       "</table>\n",
       "</div>"
      ],
      "text/plain": [
       "   id  hour  hour_bef_temperature  hour_bef_precipitation  hour_bef_windspeed  \\\n",
       "0   0     7                  20.7                     0.0                 1.3   \n",
       "1   1    17                  30.0                     0.0                 5.4   \n",
       "2   2    13                  19.0                     1.0                 2.1   \n",
       "3   4     6                  22.5                     0.0                 2.5   \n",
       "4   5    22                  14.6                     1.0                 3.4   \n",
       "\n",
       "   hour_bef_humidity  hour_bef_visibility  hour_bef_ozone  hour_bef_pm10  \\\n",
       "0               62.0                954.0           0.041           44.0   \n",
       "1               33.0               1590.0           0.061           49.0   \n",
       "2               95.0                193.0           0.020           36.0   \n",
       "3               60.0               1185.0           0.027           52.0   \n",
       "4               93.0                218.0           0.041           18.0   \n",
       "\n",
       "   hour_bef_pm2.5  \n",
       "0            27.0  \n",
       "1            36.0  \n",
       "2            28.0  \n",
       "3            38.0  \n",
       "4            15.0  "
      ]
     },
     "execution_count": 10,
     "metadata": {},
     "output_type": "execute_result"
    }
   ],
   "source": [
    "test.head()"
   ]
  },
  {
   "cell_type": "code",
   "execution_count": 12,
   "id": "6bc499fb",
   "metadata": {},
   "outputs": [
    {
     "data": {
      "text/html": [
       "<div>\n",
       "<style scoped>\n",
       "    .dataframe tbody tr th:only-of-type {\n",
       "        vertical-align: middle;\n",
       "    }\n",
       "\n",
       "    .dataframe tbody tr th {\n",
       "        vertical-align: top;\n",
       "    }\n",
       "\n",
       "    .dataframe thead th {\n",
       "        text-align: right;\n",
       "    }\n",
       "</style>\n",
       "<table border=\"1\" class=\"dataframe\">\n",
       "  <thead>\n",
       "    <tr style=\"text-align: right;\">\n",
       "      <th></th>\n",
       "      <th>id</th>\n",
       "      <th>count</th>\n",
       "    </tr>\n",
       "  </thead>\n",
       "  <tbody>\n",
       "    <tr>\n",
       "      <th>0</th>\n",
       "      <td>0</td>\n",
       "      <td>NaN</td>\n",
       "    </tr>\n",
       "    <tr>\n",
       "      <th>1</th>\n",
       "      <td>1</td>\n",
       "      <td>NaN</td>\n",
       "    </tr>\n",
       "    <tr>\n",
       "      <th>2</th>\n",
       "      <td>2</td>\n",
       "      <td>NaN</td>\n",
       "    </tr>\n",
       "    <tr>\n",
       "      <th>3</th>\n",
       "      <td>4</td>\n",
       "      <td>NaN</td>\n",
       "    </tr>\n",
       "    <tr>\n",
       "      <th>4</th>\n",
       "      <td>5</td>\n",
       "      <td>NaN</td>\n",
       "    </tr>\n",
       "  </tbody>\n",
       "</table>\n",
       "</div>"
      ],
      "text/plain": [
       "   id  count\n",
       "0   0    NaN\n",
       "1   1    NaN\n",
       "2   2    NaN\n",
       "3   4    NaN\n",
       "4   5    NaN"
      ]
     },
     "execution_count": 12,
     "metadata": {},
     "output_type": "execute_result"
    }
   ],
   "source": [
    "submission.head()"
   ]
  },
  {
   "cell_type": "markdown",
   "id": "05af60d0",
   "metadata": {},
   "source": [
    "- id : 날짜와 시간별 id\n",
    "- hour_bef_temperature : 1시간 전 기온\n",
    "- hour_bef_precipitation : 1시간 전 비 정보, 비가 오지 않았으면 0, 비가 오면 1\n",
    "- hour_bef_windspeed : 1시간 전 풍속(평균)\n",
    "- hour_bef_humidity : 1시간 전 습도\n",
    "- hour_bef_visibility : 1시간 전 시정, 시계(특정 기상 상태에 따른 가시성을 의미)\n",
    "- hour_bef_ozone : 1ㅣ간 전 오존\n",
    "- hour_bef_pm10 : 1시간 전 미세먼지(머리카락 굵기의 1/5에서 1/7 크기의 미세먼지\n",
    "- hour_bef_pm2.5 : 1시간 전 미세먼지(머리카락 굵기의 1/20에서 1/30 크기의 미세먼지 \n",
    "- count : 시간에 따른 따릉이 대여 수"
   ]
  },
  {
   "cell_type": "markdown",
   "id": "cfcb399d",
   "metadata": {},
   "source": [
    "### pd.DataFrame.tail()\n",
    " - 데이터 프레임의 아래에서부터 n개 행을 보여주는 함수\n",
    " - n의 기본 값(default)은 5"
   ]
  },
  {
   "cell_type": "code",
   "execution_count": 13,
   "id": "df2f4fb9",
   "metadata": {},
   "outputs": [
    {
     "data": {
      "text/html": [
       "<div>\n",
       "<style scoped>\n",
       "    .dataframe tbody tr th:only-of-type {\n",
       "        vertical-align: middle;\n",
       "    }\n",
       "\n",
       "    .dataframe tbody tr th {\n",
       "        vertical-align: top;\n",
       "    }\n",
       "\n",
       "    .dataframe thead th {\n",
       "        text-align: right;\n",
       "    }\n",
       "</style>\n",
       "<table border=\"1\" class=\"dataframe\">\n",
       "  <thead>\n",
       "    <tr style=\"text-align: right;\">\n",
       "      <th></th>\n",
       "      <th>id</th>\n",
       "      <th>hour</th>\n",
       "      <th>hour_bef_temperature</th>\n",
       "      <th>hour_bef_precipitation</th>\n",
       "      <th>hour_bef_windspeed</th>\n",
       "      <th>hour_bef_humidity</th>\n",
       "      <th>hour_bef_visibility</th>\n",
       "      <th>hour_bef_ozone</th>\n",
       "      <th>hour_bef_pm10</th>\n",
       "      <th>hour_bef_pm2.5</th>\n",
       "      <th>count</th>\n",
       "    </tr>\n",
       "  </thead>\n",
       "  <tbody>\n",
       "    <tr>\n",
       "      <th>1454</th>\n",
       "      <td>2174</td>\n",
       "      <td>4</td>\n",
       "      <td>16.8</td>\n",
       "      <td>0.0</td>\n",
       "      <td>1.6</td>\n",
       "      <td>53.0</td>\n",
       "      <td>2000.0</td>\n",
       "      <td>0.031</td>\n",
       "      <td>37.0</td>\n",
       "      <td>27.0</td>\n",
       "      <td>21.0</td>\n",
       "    </tr>\n",
       "    <tr>\n",
       "      <th>1455</th>\n",
       "      <td>2175</td>\n",
       "      <td>3</td>\n",
       "      <td>10.8</td>\n",
       "      <td>0.0</td>\n",
       "      <td>3.8</td>\n",
       "      <td>45.0</td>\n",
       "      <td>2000.0</td>\n",
       "      <td>0.039</td>\n",
       "      <td>34.0</td>\n",
       "      <td>19.0</td>\n",
       "      <td>20.0</td>\n",
       "    </tr>\n",
       "    <tr>\n",
       "      <th>1456</th>\n",
       "      <td>2176</td>\n",
       "      <td>5</td>\n",
       "      <td>18.3</td>\n",
       "      <td>0.0</td>\n",
       "      <td>1.9</td>\n",
       "      <td>54.0</td>\n",
       "      <td>2000.0</td>\n",
       "      <td>0.009</td>\n",
       "      <td>30.0</td>\n",
       "      <td>21.0</td>\n",
       "      <td>22.0</td>\n",
       "    </tr>\n",
       "    <tr>\n",
       "      <th>1457</th>\n",
       "      <td>2178</td>\n",
       "      <td>21</td>\n",
       "      <td>20.7</td>\n",
       "      <td>0.0</td>\n",
       "      <td>3.7</td>\n",
       "      <td>37.0</td>\n",
       "      <td>1395.0</td>\n",
       "      <td>0.082</td>\n",
       "      <td>71.0</td>\n",
       "      <td>36.0</td>\n",
       "      <td>216.0</td>\n",
       "    </tr>\n",
       "    <tr>\n",
       "      <th>1458</th>\n",
       "      <td>2179</td>\n",
       "      <td>17</td>\n",
       "      <td>21.1</td>\n",
       "      <td>0.0</td>\n",
       "      <td>3.1</td>\n",
       "      <td>47.0</td>\n",
       "      <td>1973.0</td>\n",
       "      <td>0.046</td>\n",
       "      <td>38.0</td>\n",
       "      <td>17.0</td>\n",
       "      <td>170.0</td>\n",
       "    </tr>\n",
       "  </tbody>\n",
       "</table>\n",
       "</div>"
      ],
      "text/plain": [
       "        id  hour  hour_bef_temperature  hour_bef_precipitation  \\\n",
       "1454  2174     4                  16.8                     0.0   \n",
       "1455  2175     3                  10.8                     0.0   \n",
       "1456  2176     5                  18.3                     0.0   \n",
       "1457  2178    21                  20.7                     0.0   \n",
       "1458  2179    17                  21.1                     0.0   \n",
       "\n",
       "      hour_bef_windspeed  hour_bef_humidity  hour_bef_visibility  \\\n",
       "1454                 1.6               53.0               2000.0   \n",
       "1455                 3.8               45.0               2000.0   \n",
       "1456                 1.9               54.0               2000.0   \n",
       "1457                 3.7               37.0               1395.0   \n",
       "1458                 3.1               47.0               1973.0   \n",
       "\n",
       "      hour_bef_ozone  hour_bef_pm10  hour_bef_pm2.5  count  \n",
       "1454           0.031           37.0            27.0   21.0  \n",
       "1455           0.039           34.0            19.0   20.0  \n",
       "1456           0.009           30.0            21.0   22.0  \n",
       "1457           0.082           71.0            36.0  216.0  \n",
       "1458           0.046           38.0            17.0  170.0  "
      ]
     },
     "execution_count": 13,
     "metadata": {},
     "output_type": "execute_result"
    }
   ],
   "source": [
    "train.tail()"
   ]
  },
  {
   "cell_type": "markdown",
   "id": "33d62463",
   "metadata": {},
   "source": [
    "### pd.DataFrame.shape()\n",
    "- 데이터 프레임의 행의 개수와 열의 개수가 저장되어 있는 속성(attribute)"
   ]
  },
  {
   "cell_type": "code",
   "execution_count": 14,
   "id": "4f9cea33",
   "metadata": {},
   "outputs": [
    {
     "name": "stdout",
     "output_type": "stream",
     "text": [
      "(1459, 11)\n",
      "(715, 10)\n",
      "(715, 2)\n"
     ]
    }
   ],
   "source": [
    "print(train.shape)\n",
    "print(test.shape)\n",
    "print(submission.shape)"
   ]
  },
  {
   "cell_type": "markdown",
   "id": "4620662d",
   "metadata": {},
   "source": [
    "### pd.DdataFrame.info()\n",
    "- 데이터셋의 column별 정보를 알려주는 함수\n",
    "- 비어 있지 않은 값은 (non-null)은 몇개인지?\n",
    "- column의 type은 무엇인지?  \n",
    " - type의 종류 : int, float, object 등등"
   ]
  },
  {
   "cell_type": "code",
   "execution_count": 15,
   "id": "b90e1458",
   "metadata": {},
   "outputs": [
    {
     "name": "stdout",
     "output_type": "stream",
     "text": [
      "<class 'pandas.core.frame.DataFrame'>\n",
      "RangeIndex: 1459 entries, 0 to 1458\n",
      "Data columns (total 11 columns):\n",
      " #   Column                  Non-Null Count  Dtype  \n",
      "---  ------                  --------------  -----  \n",
      " 0   id                      1459 non-null   int64  \n",
      " 1   hour                    1459 non-null   int64  \n",
      " 2   hour_bef_temperature    1457 non-null   float64\n",
      " 3   hour_bef_precipitation  1457 non-null   float64\n",
      " 4   hour_bef_windspeed      1450 non-null   float64\n",
      " 5   hour_bef_humidity       1457 non-null   float64\n",
      " 6   hour_bef_visibility     1457 non-null   float64\n",
      " 7   hour_bef_ozone          1383 non-null   float64\n",
      " 8   hour_bef_pm10           1369 non-null   float64\n",
      " 9   hour_bef_pm2.5          1342 non-null   float64\n",
      " 10  count                   1459 non-null   float64\n",
      "dtypes: float64(9), int64(2)\n",
      "memory usage: 125.5 KB\n"
     ]
    }
   ],
   "source": [
    "train.info()"
   ]
  },
  {
   "cell_type": "markdown",
   "id": "35717d98",
   "metadata": {},
   "source": [
    "### pd.DataFrame.describe()\n",
    "- 숫자형 (int, float) column들의 기술 통계량을 보여주는 함수\n",
    "- 기술통계량이란?  \n",
    " - 해당 column에서 비어 있지 않은 값의 개수  \n",
    "- 기술통계량 종류  \n",
    " - count : 해당 column에서 비어 있지 않은 값의 개수 \n",
    " - mean : 평균  \n",
    " - std : 표준편차  \n",
    " - min : 최솟값(이상치 포함)  \n",
    " - 25% (Q1) : 전체 데이터를 순서대로 정렬했을 때, 아래에서 부터 1/4번째 지점에 있는 값  \n",
    " - 50% (Q2) : 중앙값 (전체 데이터를 순서대로 정렬했을 때, 아래에서 부터 2/4번째 지점에 있는 값)  \n",
    " - 75% (Q3) : 전체 데이터를 순서대로 정렬했을 때, 아래에서 부터 3/4번째 지점에 있는 값  \n",
    " - max : 최댓값(이상치 포함)  \n",
    "- 이상치 : 울타리 밖에 있는 부분을 이상치라고 정의함  \n",
    " - 아래쪽 울타리: $Q_1$ - $1.5 * IQR$\n",
    " - 위쪽 울타리: $Q_3$ + $1.5 * IQR$\n",
    " - $IQR$ = $Q_3 - Q_1$\n",
    " \n",
    " <img src=\"https://miro.medium.com/max/10125/1*NRlqiZGQdsIyAu0KzP7LaQ.png\" width=\"700\" height=\"500\">\n"
   ]
  },
  {
   "cell_type": "code",
   "execution_count": 16,
   "id": "add750b7",
   "metadata": {},
   "outputs": [
    {
     "data": {
      "text/html": [
       "<div>\n",
       "<style scoped>\n",
       "    .dataframe tbody tr th:only-of-type {\n",
       "        vertical-align: middle;\n",
       "    }\n",
       "\n",
       "    .dataframe tbody tr th {\n",
       "        vertical-align: top;\n",
       "    }\n",
       "\n",
       "    .dataframe thead th {\n",
       "        text-align: right;\n",
       "    }\n",
       "</style>\n",
       "<table border=\"1\" class=\"dataframe\">\n",
       "  <thead>\n",
       "    <tr style=\"text-align: right;\">\n",
       "      <th></th>\n",
       "      <th>id</th>\n",
       "      <th>hour</th>\n",
       "      <th>hour_bef_temperature</th>\n",
       "      <th>hour_bef_precipitation</th>\n",
       "      <th>hour_bef_windspeed</th>\n",
       "      <th>hour_bef_humidity</th>\n",
       "      <th>hour_bef_visibility</th>\n",
       "      <th>hour_bef_ozone</th>\n",
       "      <th>hour_bef_pm10</th>\n",
       "      <th>hour_bef_pm2.5</th>\n",
       "      <th>count</th>\n",
       "    </tr>\n",
       "  </thead>\n",
       "  <tbody>\n",
       "    <tr>\n",
       "      <th>count</th>\n",
       "      <td>1459.000000</td>\n",
       "      <td>1459.000000</td>\n",
       "      <td>1457.000000</td>\n",
       "      <td>1457.000000</td>\n",
       "      <td>1450.000000</td>\n",
       "      <td>1457.000000</td>\n",
       "      <td>1457.000000</td>\n",
       "      <td>1383.000000</td>\n",
       "      <td>1369.000000</td>\n",
       "      <td>1342.000000</td>\n",
       "      <td>1459.000000</td>\n",
       "    </tr>\n",
       "    <tr>\n",
       "      <th>mean</th>\n",
       "      <td>1105.914325</td>\n",
       "      <td>11.493489</td>\n",
       "      <td>16.717433</td>\n",
       "      <td>0.031572</td>\n",
       "      <td>2.479034</td>\n",
       "      <td>52.231297</td>\n",
       "      <td>1405.216884</td>\n",
       "      <td>0.039149</td>\n",
       "      <td>57.168736</td>\n",
       "      <td>30.327124</td>\n",
       "      <td>108.563400</td>\n",
       "    </tr>\n",
       "    <tr>\n",
       "      <th>std</th>\n",
       "      <td>631.338681</td>\n",
       "      <td>6.922790</td>\n",
       "      <td>5.239150</td>\n",
       "      <td>0.174917</td>\n",
       "      <td>1.378265</td>\n",
       "      <td>20.370387</td>\n",
       "      <td>583.131708</td>\n",
       "      <td>0.019509</td>\n",
       "      <td>31.771019</td>\n",
       "      <td>14.713252</td>\n",
       "      <td>82.631733</td>\n",
       "    </tr>\n",
       "    <tr>\n",
       "      <th>min</th>\n",
       "      <td>3.000000</td>\n",
       "      <td>0.000000</td>\n",
       "      <td>3.100000</td>\n",
       "      <td>0.000000</td>\n",
       "      <td>0.000000</td>\n",
       "      <td>7.000000</td>\n",
       "      <td>78.000000</td>\n",
       "      <td>0.003000</td>\n",
       "      <td>9.000000</td>\n",
       "      <td>8.000000</td>\n",
       "      <td>1.000000</td>\n",
       "    </tr>\n",
       "    <tr>\n",
       "      <th>25%</th>\n",
       "      <td>555.500000</td>\n",
       "      <td>5.500000</td>\n",
       "      <td>12.800000</td>\n",
       "      <td>0.000000</td>\n",
       "      <td>1.400000</td>\n",
       "      <td>36.000000</td>\n",
       "      <td>879.000000</td>\n",
       "      <td>0.025500</td>\n",
       "      <td>36.000000</td>\n",
       "      <td>20.000000</td>\n",
       "      <td>37.000000</td>\n",
       "    </tr>\n",
       "    <tr>\n",
       "      <th>50%</th>\n",
       "      <td>1115.000000</td>\n",
       "      <td>11.000000</td>\n",
       "      <td>16.600000</td>\n",
       "      <td>0.000000</td>\n",
       "      <td>2.300000</td>\n",
       "      <td>51.000000</td>\n",
       "      <td>1577.000000</td>\n",
       "      <td>0.039000</td>\n",
       "      <td>51.000000</td>\n",
       "      <td>26.000000</td>\n",
       "      <td>96.000000</td>\n",
       "    </tr>\n",
       "    <tr>\n",
       "      <th>75%</th>\n",
       "      <td>1651.000000</td>\n",
       "      <td>17.500000</td>\n",
       "      <td>20.100000</td>\n",
       "      <td>0.000000</td>\n",
       "      <td>3.400000</td>\n",
       "      <td>69.000000</td>\n",
       "      <td>1994.000000</td>\n",
       "      <td>0.052000</td>\n",
       "      <td>69.000000</td>\n",
       "      <td>37.000000</td>\n",
       "      <td>150.000000</td>\n",
       "    </tr>\n",
       "    <tr>\n",
       "      <th>max</th>\n",
       "      <td>2179.000000</td>\n",
       "      <td>23.000000</td>\n",
       "      <td>30.000000</td>\n",
       "      <td>1.000000</td>\n",
       "      <td>8.000000</td>\n",
       "      <td>99.000000</td>\n",
       "      <td>2000.000000</td>\n",
       "      <td>0.125000</td>\n",
       "      <td>269.000000</td>\n",
       "      <td>90.000000</td>\n",
       "      <td>431.000000</td>\n",
       "    </tr>\n",
       "  </tbody>\n",
       "</table>\n",
       "</div>"
      ],
      "text/plain": [
       "                id         hour  hour_bef_temperature  hour_bef_precipitation  \\\n",
       "count  1459.000000  1459.000000           1457.000000             1457.000000   \n",
       "mean   1105.914325    11.493489             16.717433                0.031572   \n",
       "std     631.338681     6.922790              5.239150                0.174917   \n",
       "min       3.000000     0.000000              3.100000                0.000000   \n",
       "25%     555.500000     5.500000             12.800000                0.000000   \n",
       "50%    1115.000000    11.000000             16.600000                0.000000   \n",
       "75%    1651.000000    17.500000             20.100000                0.000000   \n",
       "max    2179.000000    23.000000             30.000000                1.000000   \n",
       "\n",
       "       hour_bef_windspeed  hour_bef_humidity  hour_bef_visibility  \\\n",
       "count         1450.000000        1457.000000          1457.000000   \n",
       "mean             2.479034          52.231297          1405.216884   \n",
       "std              1.378265          20.370387           583.131708   \n",
       "min              0.000000           7.000000            78.000000   \n",
       "25%              1.400000          36.000000           879.000000   \n",
       "50%              2.300000          51.000000          1577.000000   \n",
       "75%              3.400000          69.000000          1994.000000   \n",
       "max              8.000000          99.000000          2000.000000   \n",
       "\n",
       "       hour_bef_ozone  hour_bef_pm10  hour_bef_pm2.5        count  \n",
       "count     1383.000000    1369.000000     1342.000000  1459.000000  \n",
       "mean         0.039149      57.168736       30.327124   108.563400  \n",
       "std          0.019509      31.771019       14.713252    82.631733  \n",
       "min          0.003000       9.000000        8.000000     1.000000  \n",
       "25%          0.025500      36.000000       20.000000    37.000000  \n",
       "50%          0.039000      51.000000       26.000000    96.000000  \n",
       "75%          0.052000      69.000000       37.000000   150.000000  \n",
       "max          0.125000     269.000000       90.000000   431.000000  "
      ]
     },
     "execution_count": 16,
     "metadata": {},
     "output_type": "execute_result"
    }
   ],
   "source": [
    "train.describe()"
   ]
  },
  {
   "cell_type": "code",
   "execution_count": 17,
   "id": "a2711dde",
   "metadata": {},
   "outputs": [
    {
     "data": {
      "text/html": [
       "<div>\n",
       "<style scoped>\n",
       "    .dataframe tbody tr th:only-of-type {\n",
       "        vertical-align: middle;\n",
       "    }\n",
       "\n",
       "    .dataframe tbody tr th {\n",
       "        vertical-align: top;\n",
       "    }\n",
       "\n",
       "    .dataframe thead th {\n",
       "        text-align: right;\n",
       "    }\n",
       "</style>\n",
       "<table border=\"1\" class=\"dataframe\">\n",
       "  <thead>\n",
       "    <tr style=\"text-align: right;\">\n",
       "      <th></th>\n",
       "      <th>id</th>\n",
       "      <th>hour</th>\n",
       "      <th>hour_bef_temperature</th>\n",
       "      <th>hour_bef_precipitation</th>\n",
       "      <th>hour_bef_windspeed</th>\n",
       "      <th>hour_bef_humidity</th>\n",
       "      <th>hour_bef_visibility</th>\n",
       "      <th>hour_bef_ozone</th>\n",
       "      <th>hour_bef_pm10</th>\n",
       "      <th>hour_bef_pm2.5</th>\n",
       "    </tr>\n",
       "  </thead>\n",
       "  <tbody>\n",
       "    <tr>\n",
       "      <th>count</th>\n",
       "      <td>715.000000</td>\n",
       "      <td>715.000000</td>\n",
       "      <td>714.000000</td>\n",
       "      <td>714.000000</td>\n",
       "      <td>714.000000</td>\n",
       "      <td>714.000000</td>\n",
       "      <td>714.000000</td>\n",
       "      <td>680.000000</td>\n",
       "      <td>678.000000</td>\n",
       "      <td>679.000000</td>\n",
       "    </tr>\n",
       "    <tr>\n",
       "      <th>mean</th>\n",
       "      <td>1056.854545</td>\n",
       "      <td>11.472727</td>\n",
       "      <td>23.263305</td>\n",
       "      <td>0.051821</td>\n",
       "      <td>2.388515</td>\n",
       "      <td>56.668067</td>\n",
       "      <td>1359.494398</td>\n",
       "      <td>0.041196</td>\n",
       "      <td>36.930678</td>\n",
       "      <td>24.939617</td>\n",
       "    </tr>\n",
       "    <tr>\n",
       "      <th>std</th>\n",
       "      <td>625.574471</td>\n",
       "      <td>6.928427</td>\n",
       "      <td>4.039645</td>\n",
       "      <td>0.221820</td>\n",
       "      <td>1.171270</td>\n",
       "      <td>19.661880</td>\n",
       "      <td>614.171870</td>\n",
       "      <td>0.020656</td>\n",
       "      <td>12.641503</td>\n",
       "      <td>10.075857</td>\n",
       "    </tr>\n",
       "    <tr>\n",
       "      <th>min</th>\n",
       "      <td>0.000000</td>\n",
       "      <td>0.000000</td>\n",
       "      <td>14.600000</td>\n",
       "      <td>0.000000</td>\n",
       "      <td>0.000000</td>\n",
       "      <td>16.000000</td>\n",
       "      <td>126.000000</td>\n",
       "      <td>0.003000</td>\n",
       "      <td>9.000000</td>\n",
       "      <td>7.000000</td>\n",
       "    </tr>\n",
       "    <tr>\n",
       "      <th>25%</th>\n",
       "      <td>507.000000</td>\n",
       "      <td>5.500000</td>\n",
       "      <td>20.300000</td>\n",
       "      <td>0.000000</td>\n",
       "      <td>1.500000</td>\n",
       "      <td>42.000000</td>\n",
       "      <td>807.250000</td>\n",
       "      <td>0.027000</td>\n",
       "      <td>28.000000</td>\n",
       "      <td>17.000000</td>\n",
       "    </tr>\n",
       "    <tr>\n",
       "      <th>50%</th>\n",
       "      <td>1046.000000</td>\n",
       "      <td>11.000000</td>\n",
       "      <td>22.900000</td>\n",
       "      <td>0.000000</td>\n",
       "      <td>2.300000</td>\n",
       "      <td>55.000000</td>\n",
       "      <td>1489.000000</td>\n",
       "      <td>0.039000</td>\n",
       "      <td>35.000000</td>\n",
       "      <td>24.000000</td>\n",
       "    </tr>\n",
       "    <tr>\n",
       "      <th>75%</th>\n",
       "      <td>1616.500000</td>\n",
       "      <td>17.000000</td>\n",
       "      <td>26.375000</td>\n",
       "      <td>0.000000</td>\n",
       "      <td>3.275000</td>\n",
       "      <td>73.750000</td>\n",
       "      <td>2000.000000</td>\n",
       "      <td>0.052250</td>\n",
       "      <td>45.000000</td>\n",
       "      <td>31.000000</td>\n",
       "    </tr>\n",
       "    <tr>\n",
       "      <th>max</th>\n",
       "      <td>2177.000000</td>\n",
       "      <td>23.000000</td>\n",
       "      <td>33.800000</td>\n",
       "      <td>1.000000</td>\n",
       "      <td>5.900000</td>\n",
       "      <td>100.000000</td>\n",
       "      <td>2000.000000</td>\n",
       "      <td>0.138000</td>\n",
       "      <td>94.000000</td>\n",
       "      <td>69.000000</td>\n",
       "    </tr>\n",
       "  </tbody>\n",
       "</table>\n",
       "</div>"
      ],
      "text/plain": [
       "                id        hour  hour_bef_temperature  hour_bef_precipitation  \\\n",
       "count   715.000000  715.000000            714.000000              714.000000   \n",
       "mean   1056.854545   11.472727             23.263305                0.051821   \n",
       "std     625.574471    6.928427              4.039645                0.221820   \n",
       "min       0.000000    0.000000             14.600000                0.000000   \n",
       "25%     507.000000    5.500000             20.300000                0.000000   \n",
       "50%    1046.000000   11.000000             22.900000                0.000000   \n",
       "75%    1616.500000   17.000000             26.375000                0.000000   \n",
       "max    2177.000000   23.000000             33.800000                1.000000   \n",
       "\n",
       "       hour_bef_windspeed  hour_bef_humidity  hour_bef_visibility  \\\n",
       "count          714.000000         714.000000           714.000000   \n",
       "mean             2.388515          56.668067          1359.494398   \n",
       "std              1.171270          19.661880           614.171870   \n",
       "min              0.000000          16.000000           126.000000   \n",
       "25%              1.500000          42.000000           807.250000   \n",
       "50%              2.300000          55.000000          1489.000000   \n",
       "75%              3.275000          73.750000          2000.000000   \n",
       "max              5.900000         100.000000          2000.000000   \n",
       "\n",
       "       hour_bef_ozone  hour_bef_pm10  hour_bef_pm2.5  \n",
       "count      680.000000     678.000000      679.000000  \n",
       "mean         0.041196      36.930678       24.939617  \n",
       "std          0.020656      12.641503       10.075857  \n",
       "min          0.003000       9.000000        7.000000  \n",
       "25%          0.027000      28.000000       17.000000  \n",
       "50%          0.039000      35.000000       24.000000  \n",
       "75%          0.052250      45.000000       31.000000  \n",
       "max          0.138000      94.000000       69.000000  "
      ]
     },
     "execution_count": 17,
     "metadata": {},
     "output_type": "execute_result"
    }
   ],
   "source": [
    "test.describe()"
   ]
  },
  {
   "cell_type": "markdown",
   "id": "d63d54d1",
   "metadata": {},
   "source": [
    "### pd.DataFrame.groupby()\n",
    "- 집단에 대한 통게량 확인\n",
    "\n",
    "<img src=\"https://s3.amazonaws.com/files.dezyre.com/images/Tutorials/Split+Apply+Combine+Strategy.png\" width=\"700\" height=\"500\">"
   ]
  },
  {
   "cell_type": "code",
   "execution_count": 23,
   "id": "3d376479",
   "metadata": {},
   "outputs": [],
   "source": [
    "import matplotlib.pyplot as plt"
   ]
  },
  {
   "cell_type": "code",
   "execution_count": 24,
   "id": "9c657bac",
   "metadata": {},
   "outputs": [
    {
     "data": {
      "text/plain": [
       "<AxesSubplot:xlabel='hour'>"
      ]
     },
     "execution_count": 24,
     "metadata": {},
     "output_type": "execute_result"
    },
    {
     "data": {
      "image/png": "[encoded data removed]",
      "text/plain": [
       "<Figure size 432x288 with 1 Axes>"
      ]
     },
     "metadata": {
      "needs_background": "light"
     },
     "output_type": "display_data"
    }
   ],
   "source": [
    "train.groupby('hour').mean()['count'].plot()"
   ]
  },
  {
   "cell_type": "markdown",
   "id": "1e79a6c1",
   "metadata": {},
   "source": [
    "### plt.plot()의 스타일 \n",
    "색깔\n",
    "\n",
    "|문자열|약자|\n",
    "|----|-----|\n",
    "|blue|b|\n",
    "|green|g|\n",
    "|red|r|\n",
    "|cyan|c|\n",
    "|magenta|m|\n",
    "|yellow|y|\n",
    "|black|k|\n",
    "|white|w|\n",
    "\n",
    "마커\n",
    "\n",
    "|마커|의미|\n",
    "|----|----|\n",
    "|.|점|\n",
    "|o|원|\n",
    "|v|역삼각형|\n",
    "|^|삼각형|\n",
    "|s|사각형|\n",
    "|*|별|\n",
    "|x|엑스|\n",
    "|d|다이아몬드|\n",
    "\n",
    "선\n",
    "\n",
    "|문자열|의미|\n",
    "|-----|-----|\n",
    "| - | 실선|\n",
    "|-- | 끊어진 실선|\n",
    "| -.| 점+실선|\n",
    "|:|점선|"
   ]
  },
  {
   "cell_type": "code",
   "execution_count": 34,
   "id": "146e2c48",
   "metadata": {},
   "outputs": [
    {
     "data": {
      "image/png": "[encoded data removed]",
      "text/plain": [
       "<Figure size 432x288 with 1 Axes>"
      ]
     },
     "metadata": {
      "needs_background": "light"
     },
     "output_type": "display_data"
    }
   ],
   "source": [
    "plt.plot(train.groupby('hour').mean()['count'], 'co:')\n",
    "plt.grid()"
   ]
  },
  {
   "cell_type": "markdown",
   "id": "e06b68e8",
   "metadata": {},
   "source": [
    "### plt.plot(label, fontsize)\n",
    "- 그래프 제목 생성\n",
    "\n",
    "### plt.xlabel(label, fontsize)\n",
    "- x축 이름 설정\n",
    "\n",
    "### plt.ylabel(label, fontsize)\n",
    "- y축 이름 설정"
   ]
  },
  {
   "cell_type": "code",
   "execution_count": 35,
   "id": "6f4efc6c",
   "metadata": {},
   "outputs": [
    {
     "data": {
      "image/png": "[encoded data removed]",
      "text/plain": [
       "<Figure size 432x288 with 1 Axes>"
      ]
     },
     "metadata": {
      "needs_background": "light"
     },
     "output_type": "display_data"
    }
   ],
   "source": [
    "plt.plot(train.groupby('hour').mean()['count'], 'co:')\n",
    "plt.grid()\n",
    "\n",
    "plt.title('count by hours', fontsize = 15)\n",
    "plt.xlabel('hour', fontsize = 15)\n",
    "plt.ylabel('count', fontsize = 15)\n",
    "\n",
    "plt.savefig('picture.png')"
   ]
  },
  {
   "cell_type": "markdown",
   "id": "3cda888b",
   "metadata": {},
   "source": [
    "### plt.axvline(x, color)\n",
    "- 축을 가로지르는 세로 선 생성\n",
    "  \n",
    "### plt.text(x, y, s, fontsize)  \n",
    "- 원하는 위치에 텍스트 생성"
   ]
  },
  {
   "cell_type": "code",
   "execution_count": 41,
   "id": "3ca50522",
   "metadata": {},
   "outputs": [
    {
     "data": {
      "image/png": "[encoded data removed]",
      "text/plain": [
       "<Figure size 432x288 with 1 Axes>"
      ]
     },
     "metadata": {
      "needs_background": "light"
     },
     "output_type": "display_data"
    }
   ],
   "source": [
    "plt.plot(train.groupby('hour').mean()['count'], 'co:')\n",
    "plt.grid()\n",
    "\n",
    "plt.title('count by hours', fontsize = 15)\n",
    "plt.xlabel('hour', fontsize = 15)\n",
    "plt.ylabel('count', fontsize = 15)\n",
    "plt.text(8, 120, 'go work', fontsize=10)\n",
    "plt.text(18, 120, 'leave work', fontsize=10)\n",
    "\n",
    "plt.axvline(8, color = 'r')\n",
    "plt.axvline(18, color = 'r')\n",
    "plt.savefig('picture.png')"
   ]
  },
  {
   "cell_type": "markdown",
   "id": "3b614d8a",
   "metadata": {},
   "source": [
    "### 상관계수\n",
    "- 상관계수 : 두 개의 변수가 같이 일어나는 강도를 나타내는 수치\n",
    "- -1에서 1 사이의 값을 지닌다.\n",
    "- -1이나 1인 수치는 현실 세게에서 관측되기 힘든 수치다.\n",
    "- 분야별로 기준을 정하는 것에 따라 달라지겠지만, 보통 0.4 이상이면 두 개의 변수간에 상관성이 있다고 본다."
   ]
  },
  {
   "cell_type": "markdown",
   "id": "5aa9ffec",
   "metadata": {},
   "source": [
    "![상관계수](https://t1.daumcdn.net/cfile/tistory/99DEE1425C6A9F2008)"
   ]
  },
  {
   "cell_type": "markdown",
   "id": "2e30d67e",
   "metadata": {},
   "source": [
    "- 상관관계는 인과관계와 다르다. 아래의 예시를 확인해보자.  \n",
    "  \n",
    "  ![상관성 예시](https://miro.medium.com/max/684/1*JLYI5eCVEN7ZUWXBIrrapw.png)"
   ]
  },
  {
   "cell_type": "markdown",
   "id": "ed095c99",
   "metadata": {},
   "source": [
    "- 선글라스 판매량이 증가함에 따라, 아이스크림 판매액도 같이 증가하는 것을 볼 수 있다.\n",
    "- 하지만 선글라스 판매량이 증가했기 때문에 아이크스림 판매액이 증가했다라고 해석하는 것은 타당하지 않다.\n",
    "- 선글라스 판매량이 증가했다는 것은 여름 때문이라고 볼 수 있으므로, 날씨가 더워짐에 따라 선글라스 판매량과 아이스크림 판매액이 같이 증가했다고 보는 것이 타당할 것이다."
   ]
  },
  {
   "cell_type": "markdown",
   "id": "197f84f1",
   "metadata": {},
   "source": [
    "### pd.DataFrame.corr()\n",
    "- correlation coefficient의 줄임말."
   ]
  },
  {
   "cell_type": "code",
   "execution_count": 44,
   "id": "75fe2382",
   "metadata": {},
   "outputs": [],
   "source": [
    "import seaborn as sns"
   ]
  },
  {
   "cell_type": "code",
   "execution_count": 51,
   "id": "8ac7fff0",
   "metadata": {},
   "outputs": [
    {
     "data": {
      "text/plain": [
       "<AxesSubplot:>"
      ]
     },
     "execution_count": 51,
     "metadata": {},
     "output_type": "execute_result"
    },
    {
     "data": {
      "image/png": "[encoded data removed]",
      "text/plain": [
       "<Figure size 720x720 with 2 Axes>"
      ]
     },
     "metadata": {
      "needs_background": "light"
     },
     "output_type": "display_data"
    }
   ],
   "source": [
    "plt.figure(figsize=(10,10))\n",
    "sns.heatmap(train.corr(), annot = True)"
   ]
  },
  {
   "cell_type": "markdown",
   "id": "33ff3080",
   "metadata": {},
   "source": [
    "## 3. 데이터 전처리\n",
    "### Data cleansing & Pre-Processing"
   ]
  },
  {
   "cell_type": "markdown",
   "id": "08b2a78b",
   "metadata": {},
   "source": [
    "### pd.Series.isna()\n",
    "- 결측치 여부를 확인한다.\n",
    "- 결측치면 True, 아니면 False"
   ]
  },
  {
   "cell_type": "code",
   "execution_count": 75,
   "id": "80700096",
   "metadata": {},
   "outputs": [
    {
     "data": {
      "text/html": [
       "<div>\n",
       "<style scoped>\n",
       "    .dataframe tbody tr th:only-of-type {\n",
       "        vertical-align: middle;\n",
       "    }\n",
       "\n",
       "    .dataframe tbody tr th {\n",
       "        vertical-align: top;\n",
       "    }\n",
       "\n",
       "    .dataframe thead th {\n",
       "        text-align: right;\n",
       "    }\n",
       "</style>\n",
       "<table border=\"1\" class=\"dataframe\">\n",
       "  <thead>\n",
       "    <tr style=\"text-align: right;\">\n",
       "      <th></th>\n",
       "      <th>id</th>\n",
       "      <th>hour</th>\n",
       "      <th>hour_bef_temperature</th>\n",
       "      <th>hour_bef_precipitation</th>\n",
       "      <th>hour_bef_windspeed</th>\n",
       "      <th>hour_bef_humidity</th>\n",
       "      <th>hour_bef_visibility</th>\n",
       "      <th>hour_bef_ozone</th>\n",
       "      <th>hour_bef_pm10</th>\n",
       "      <th>hour_bef_pm2.5</th>\n",
       "      <th>count</th>\n",
       "    </tr>\n",
       "  </thead>\n",
       "  <tbody>\n",
       "    <tr>\n",
       "      <th>18</th>\n",
       "      <td>33</td>\n",
       "      <td>13</td>\n",
       "      <td>22.600000</td>\n",
       "      <td>0.0</td>\n",
       "      <td>NaN</td>\n",
       "      <td>41.0</td>\n",
       "      <td>987.0</td>\n",
       "      <td>0.046</td>\n",
       "      <td>64.0</td>\n",
       "      <td>39.0</td>\n",
       "      <td>208.0</td>\n",
       "    </tr>\n",
       "    <tr>\n",
       "      <th>244</th>\n",
       "      <td>381</td>\n",
       "      <td>1</td>\n",
       "      <td>14.100000</td>\n",
       "      <td>0.0</td>\n",
       "      <td>NaN</td>\n",
       "      <td>55.0</td>\n",
       "      <td>1992.0</td>\n",
       "      <td>NaN</td>\n",
       "      <td>NaN</td>\n",
       "      <td>NaN</td>\n",
       "      <td>38.0</td>\n",
       "    </tr>\n",
       "    <tr>\n",
       "      <th>260</th>\n",
       "      <td>404</td>\n",
       "      <td>3</td>\n",
       "      <td>14.000000</td>\n",
       "      <td>0.0</td>\n",
       "      <td>NaN</td>\n",
       "      <td>50.0</td>\n",
       "      <td>2000.0</td>\n",
       "      <td>0.049</td>\n",
       "      <td>35.0</td>\n",
       "      <td>22.0</td>\n",
       "      <td>17.0</td>\n",
       "    </tr>\n",
       "    <tr>\n",
       "      <th>376</th>\n",
       "      <td>570</td>\n",
       "      <td>0</td>\n",
       "      <td>14.300000</td>\n",
       "      <td>0.0</td>\n",
       "      <td>NaN</td>\n",
       "      <td>49.0</td>\n",
       "      <td>2000.0</td>\n",
       "      <td>0.044</td>\n",
       "      <td>37.0</td>\n",
       "      <td>20.0</td>\n",
       "      <td>58.0</td>\n",
       "    </tr>\n",
       "    <tr>\n",
       "      <th>780</th>\n",
       "      <td>1196</td>\n",
       "      <td>20</td>\n",
       "      <td>16.500000</td>\n",
       "      <td>0.0</td>\n",
       "      <td>NaN</td>\n",
       "      <td>31.0</td>\n",
       "      <td>2000.0</td>\n",
       "      <td>0.058</td>\n",
       "      <td>39.0</td>\n",
       "      <td>18.0</td>\n",
       "      <td>181.0</td>\n",
       "    </tr>\n",
       "    <tr>\n",
       "      <th>934</th>\n",
       "      <td>1420</td>\n",
       "      <td>0</td>\n",
       "      <td>14.788136</td>\n",
       "      <td>NaN</td>\n",
       "      <td>NaN</td>\n",
       "      <td>NaN</td>\n",
       "      <td>NaN</td>\n",
       "      <td>NaN</td>\n",
       "      <td>NaN</td>\n",
       "      <td>NaN</td>\n",
       "      <td>39.0</td>\n",
       "    </tr>\n",
       "    <tr>\n",
       "      <th>1035</th>\n",
       "      <td>1553</td>\n",
       "      <td>18</td>\n",
       "      <td>20.926667</td>\n",
       "      <td>NaN</td>\n",
       "      <td>NaN</td>\n",
       "      <td>NaN</td>\n",
       "      <td>NaN</td>\n",
       "      <td>NaN</td>\n",
       "      <td>NaN</td>\n",
       "      <td>NaN</td>\n",
       "      <td>1.0</td>\n",
       "    </tr>\n",
       "    <tr>\n",
       "      <th>1138</th>\n",
       "      <td>1717</td>\n",
       "      <td>12</td>\n",
       "      <td>21.400000</td>\n",
       "      <td>0.0</td>\n",
       "      <td>NaN</td>\n",
       "      <td>44.0</td>\n",
       "      <td>1375.0</td>\n",
       "      <td>0.044</td>\n",
       "      <td>61.0</td>\n",
       "      <td>37.0</td>\n",
       "      <td>116.0</td>\n",
       "    </tr>\n",
       "    <tr>\n",
       "      <th>1229</th>\n",
       "      <td>1855</td>\n",
       "      <td>2</td>\n",
       "      <td>14.000000</td>\n",
       "      <td>0.0</td>\n",
       "      <td>NaN</td>\n",
       "      <td>52.0</td>\n",
       "      <td>2000.0</td>\n",
       "      <td>0.044</td>\n",
       "      <td>37.0</td>\n",
       "      <td>20.0</td>\n",
       "      <td>20.0</td>\n",
       "    </tr>\n",
       "  </tbody>\n",
       "</table>\n",
       "</div>"
      ],
      "text/plain": [
       "        id  hour  hour_bef_temperature  hour_bef_precipitation  \\\n",
       "18      33    13             22.600000                     0.0   \n",
       "244    381     1             14.100000                     0.0   \n",
       "260    404     3             14.000000                     0.0   \n",
       "376    570     0             14.300000                     0.0   \n",
       "780   1196    20             16.500000                     0.0   \n",
       "934   1420     0             14.788136                     NaN   \n",
       "1035  1553    18             20.926667                     NaN   \n",
       "1138  1717    12             21.400000                     0.0   \n",
       "1229  1855     2             14.000000                     0.0   \n",
       "\n",
       "      hour_bef_windspeed  hour_bef_humidity  hour_bef_visibility  \\\n",
       "18                   NaN               41.0                987.0   \n",
       "244                  NaN               55.0               1992.0   \n",
       "260                  NaN               50.0               2000.0   \n",
       "376                  NaN               49.0               2000.0   \n",
       "780                  NaN               31.0               2000.0   \n",
       "934                  NaN                NaN                  NaN   \n",
       "1035                 NaN                NaN                  NaN   \n",
       "1138                 NaN               44.0               1375.0   \n",
       "1229                 NaN               52.0               2000.0   \n",
       "\n",
       "      hour_bef_ozone  hour_bef_pm10  hour_bef_pm2.5  count  \n",
       "18             0.046           64.0            39.0  208.0  \n",
       "244              NaN            NaN             NaN   38.0  \n",
       "260            0.049           35.0            22.0   17.0  \n",
       "376            0.044           37.0            20.0   58.0  \n",
       "780            0.058           39.0            18.0  181.0  \n",
       "934              NaN            NaN             NaN   39.0  \n",
       "1035             NaN            NaN             NaN    1.0  \n",
       "1138           0.044           61.0            37.0  116.0  \n",
       "1229           0.044           37.0            20.0   20.0  "
      ]
     },
     "execution_count": 75,
     "metadata": {},
     "output_type": "execute_result"
    }
   ],
   "source": [
    "train[train['hour_bef_windspeed'].isna()]"
   ]
  },
  {
   "cell_type": "code",
   "execution_count": 63,
   "id": "297405aa",
   "metadata": {},
   "outputs": [
    {
     "data": {
      "text/html": [
       "<div>\n",
       "<style scoped>\n",
       "    .dataframe tbody tr th:only-of-type {\n",
       "        vertical-align: middle;\n",
       "    }\n",
       "\n",
       "    .dataframe tbody tr th {\n",
       "        vertical-align: top;\n",
       "    }\n",
       "\n",
       "    .dataframe thead th {\n",
       "        text-align: right;\n",
       "    }\n",
       "</style>\n",
       "<table border=\"1\" class=\"dataframe\">\n",
       "  <thead>\n",
       "    <tr style=\"text-align: right;\">\n",
       "      <th></th>\n",
       "      <th>id</th>\n",
       "      <th>hour</th>\n",
       "      <th>hour_bef_temperature</th>\n",
       "      <th>hour_bef_precipitation</th>\n",
       "      <th>hour_bef_windspeed</th>\n",
       "      <th>hour_bef_humidity</th>\n",
       "      <th>hour_bef_visibility</th>\n",
       "      <th>hour_bef_ozone</th>\n",
       "      <th>hour_bef_pm10</th>\n",
       "      <th>hour_bef_pm2.5</th>\n",
       "      <th>count</th>\n",
       "    </tr>\n",
       "  </thead>\n",
       "  <tbody>\n",
       "    <tr>\n",
       "      <th>934</th>\n",
       "      <td>1420</td>\n",
       "      <td>0</td>\n",
       "      <td>NaN</td>\n",
       "      <td>NaN</td>\n",
       "      <td>NaN</td>\n",
       "      <td>NaN</td>\n",
       "      <td>NaN</td>\n",
       "      <td>NaN</td>\n",
       "      <td>NaN</td>\n",
       "      <td>NaN</td>\n",
       "      <td>39.0</td>\n",
       "    </tr>\n",
       "    <tr>\n",
       "      <th>1035</th>\n",
       "      <td>1553</td>\n",
       "      <td>18</td>\n",
       "      <td>NaN</td>\n",
       "      <td>NaN</td>\n",
       "      <td>NaN</td>\n",
       "      <td>NaN</td>\n",
       "      <td>NaN</td>\n",
       "      <td>NaN</td>\n",
       "      <td>NaN</td>\n",
       "      <td>NaN</td>\n",
       "      <td>1.0</td>\n",
       "    </tr>\n",
       "  </tbody>\n",
       "</table>\n",
       "</div>"
      ],
      "text/plain": [
       "        id  hour  hour_bef_temperature  hour_bef_precipitation  \\\n",
       "934   1420     0                   NaN                     NaN   \n",
       "1035  1553    18                   NaN                     NaN   \n",
       "\n",
       "      hour_bef_windspeed  hour_bef_humidity  hour_bef_visibility  \\\n",
       "934                  NaN                NaN                  NaN   \n",
       "1035                 NaN                NaN                  NaN   \n",
       "\n",
       "      hour_bef_ozone  hour_bef_pm10  hour_bef_pm2.5  count  \n",
       "934              NaN            NaN             NaN   39.0  \n",
       "1035             NaN            NaN             NaN    1.0  "
      ]
     },
     "execution_count": 63,
     "metadata": {},
     "output_type": "execute_result"
    }
   ],
   "source": [
    "train[train['hour_bef_temperature'].isna()]"
   ]
  },
  {
   "cell_type": "code",
   "execution_count": 69,
   "id": "8232e5be",
   "metadata": {},
   "outputs": [
    {
     "data": {
      "text/plain": [
       "hour\n",
       "0     14.788136\n",
       "1     14.155738\n",
       "2     13.747541\n",
       "3     13.357377\n",
       "4     13.001639\n",
       "5     12.673770\n",
       "6     12.377049\n",
       "7     12.191803\n",
       "8     12.600000\n",
       "9     14.318033\n",
       "10    16.242623\n",
       "11    18.019672\n",
       "12    19.457377\n",
       "13    20.648333\n",
       "14    21.234426\n",
       "15    21.744262\n",
       "16    22.015000\n",
       "17    21.603333\n",
       "18    20.926667\n",
       "19    19.704918\n",
       "20    18.191803\n",
       "21    16.978333\n",
       "22    16.063934\n",
       "23    15.418033\n",
       "Name: hour_bef_temperature, dtype: float64"
      ]
     },
     "execution_count": 69,
     "metadata": {},
     "output_type": "execute_result"
    }
   ],
   "source": [
    "train.groupby('hour').mean()['hour_bef_temperature']"
   ]
  },
  {
   "cell_type": "code",
   "execution_count": 67,
   "id": "8a1933fd",
   "metadata": {},
   "outputs": [
    {
     "data": {
      "text/plain": [
       "<matplotlib.lines.Line2D at 0x1d099a44ca0>"
      ]
     },
     "execution_count": 67,
     "metadata": {},
     "output_type": "execute_result"
    },
    {
     "data": {
      "image/png": "[encoded data removed]",
      "text/plain": [
       "<Figure size 432x288 with 1 Axes>"
      ]
     },
     "metadata": {
      "needs_background": "light"
     },
     "output_type": "display_data"
    }
   ],
   "source": [
    "train.groupby('hour').mean()['hour_bef_temperature'].plot()\n",
    "plt.axhline(train.groupby('hour').mean()['hour_bef_temperature'].mean())"
   ]
  },
  {
   "cell_type": "code",
   "execution_count": 76,
   "id": "6a1b00b5",
   "metadata": {},
   "outputs": [
    {
     "data": {
      "text/plain": [
       "<AxesSubplot:xlabel='hour'>"
      ]
     },
     "execution_count": 76,
     "metadata": {},
     "output_type": "execute_result"
    },
    {
     "data": {
      "image/png": "[encoded data removed]",
      "text/plain": [
       "<Figure size 432x288 with 1 Axes>"
      ]
     },
     "metadata": {
      "needs_background": "light"
     },
     "output_type": "display_data"
    }
   ],
   "source": [
    "train.groupby('hour').mean()['hour_bef_windspeed'].plot()"
   ]
  },
  {
   "cell_type": "markdown",
   "id": "29b63b9e",
   "metadata": {},
   "source": [
    "### pd.DataFrame.fillna()\n",
    "- 결측치를 채우고자 하는 column과 결측치를 대신하여 넣고자 하는 값을 명시해주어야 합니다."
   ]
  },
  {
   "cell_type": "code",
   "execution_count": 73,
   "id": "e8505a82",
   "metadata": {},
   "outputs": [],
   "source": [
    "train['hour_bef_temperature'].fillna({934:14.788136, 1035:20.926667}, inplace=True)"
   ]
  },
  {
   "cell_type": "code",
   "execution_count": 78,
   "id": "1f9593ec",
   "metadata": {},
   "outputs": [],
   "source": [
    "train['hour_bef_windspeed'].fillna({18:3.281356, 244:1.836667, 260:1.965517, 780:3.278333, 946:1.965517, 1035:3.838333, 1138:2.766667, 1229:1.633333}, inplace=True)"
   ]
  },
  {
   "cell_type": "code",
   "execution_count": 88,
   "id": "73e7b9d6",
   "metadata": {
    "scrolled": true
   },
   "outputs": [
    {
     "data": {
      "text/plain": [
       "id                         0\n",
       "hour                       0\n",
       "hour_bef_temperature       0\n",
       "hour_bef_precipitation     1\n",
       "hour_bef_windspeed         0\n",
       "hour_bef_humidity          1\n",
       "hour_bef_visibility        1\n",
       "hour_bef_ozone            35\n",
       "hour_bef_pm10             37\n",
       "hour_bef_pm2.5            36\n",
       "dtype: int64"
      ]
     },
     "execution_count": 88,
     "metadata": {},
     "output_type": "execute_result"
    }
   ],
   "source": [
    "test.isna().sum()"
   ]
  },
  {
   "cell_type": "code",
   "execution_count": 84,
   "id": "73d32cc7",
   "metadata": {},
   "outputs": [],
   "source": [
    "test['hour_bef_temperature'].fillna(19.704918, inplace=True)"
   ]
  },
  {
   "cell_type": "code",
   "execution_count": 87,
   "id": "d825e95f",
   "metadata": {},
   "outputs": [],
   "source": [
    "test['hour_bef_windspeed'].fillna(3.595082, inplace=True)"
   ]
  },
  {
   "cell_type": "markdown",
   "id": "ec1a8ad3",
   "metadata": {},
   "source": [
    "## 4. 변수 선택 및 선택 구축\n",
    "## Feature Engineering & initial Modeling"
   ]
  },
  {
   "cell_type": "code",
   "execution_count": 56,
   "id": "20bb05c6",
   "metadata": {},
   "outputs": [],
   "source": [
    "features = [ 'hour', 'hour_bef_temperature', 'hour_bef_windspeed' ] \n",
    "X_train = train[features]\n",
    "y_train = train['count']\n",
    "X_test = test[features]"
   ]
  },
  {
   "cell_type": "code",
   "execution_count": null,
   "id": "3bf7aa94",
   "metadata": {},
   "outputs": [],
   "source": [
    "X -> MODEL -> Y"
   ]
  },
  {
   "cell_type": "markdown",
   "id": "a8b101d3",
   "metadata": {},
   "source": [
    "### sklean.ensemble.RandomForestRegressor()\n",
    "- 랜덤 포레스트 모형"
   ]
  },
  {
   "cell_type": "markdown",
   "id": "306a6aea",
   "metadata": {},
   "source": [
    "### pd.Series.isna()\n",
    "- 결측치 여부를 확인해줍니다.\n",
    "- 결측치면 True, 아니면 False"
   ]
  },
  {
   "cell_type": "code",
   "execution_count": null,
   "id": "4d46ca20",
   "metadata": {},
   "outputs": [],
   "source": []
  }
 ],
 "metadata": {
  "kernelspec": {
   "display_name": "Python 3 (ipykernel)",
   "language": "python",
   "name": "python3"
  },
  "language_info": {
   "codemirror_mode": {
    "name": "ipython",
    "version": 3
   },
   "file_extension": ".py",
   "mimetype": "text/x-python",
   "name": "python",
   "nbconvert_exporter": "python",
   "pygments_lexer": "ipython3",
   "version": "3.9.7"
  },
  "toc": {
   "base_numbering": 1,
   "nav_menu": {},
   "number_sections": true,
   "sideBar": true,
   "skip_h1_title": false,
   "title_cell": "Table of Contents",
   "title_sidebar": "Contents",
   "toc_cell": false,
   "toc_position": {},
   "toc_section_display": true,
   "toc_window_display": false
  }
 },
 "nbformat": 4,
 "nbformat_minor": 5
}
